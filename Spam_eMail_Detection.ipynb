{
  "cells": [
    {
      "cell_type": "code",
      "execution_count": null,
      "id": "df499801",
      "metadata": {
        "id": "df499801"
      },
      "outputs": [],
      "source": [
        "import pandas as pd\n",
        "import numpy as np\n",
        "import seaborn as sns\n",
        "import matplotlib.pyplot as plt"
      ]
    },
    {
      "cell_type": "code",
      "execution_count": null,
      "id": "a5d13192",
      "metadata": {
        "id": "a5d13192",
        "outputId": "c2a7aa57-35de-442d-ae82-f051d115759b"
      },
      "outputs": [
        {
          "data": {
            "text/html": [
              "<div>\n",
              "<style scoped>\n",
              "    .dataframe tbody tr th:only-of-type {\n",
              "        vertical-align: middle;\n",
              "    }\n",
              "\n",
              "    .dataframe tbody tr th {\n",
              "        vertical-align: top;\n",
              "    }\n",
              "\n",
              "    .dataframe thead th {\n",
              "        text-align: right;\n",
              "    }\n",
              "</style>\n",
              "<table border=\"1\" class=\"dataframe\">\n",
              "  <thead>\n",
              "    <tr style=\"text-align: right;\">\n",
              "      <th></th>\n",
              "      <th>text</th>\n",
              "      <th>spam</th>\n",
              "    </tr>\n",
              "  </thead>\n",
              "  <tbody>\n",
              "    <tr>\n",
              "      <th>0</th>\n",
              "      <td>Subject: naturally irresistible your corporate...</td>\n",
              "      <td>1</td>\n",
              "    </tr>\n",
              "    <tr>\n",
              "      <th>1</th>\n",
              "      <td>Subject: the stock trading gunslinger  fanny i...</td>\n",
              "      <td>1</td>\n",
              "    </tr>\n",
              "    <tr>\n",
              "      <th>2</th>\n",
              "      <td>Subject: unbelievable new homes made easy  im ...</td>\n",
              "      <td>1</td>\n",
              "    </tr>\n",
              "    <tr>\n",
              "      <th>3</th>\n",
              "      <td>Subject: 4 color printing special  request add...</td>\n",
              "      <td>1</td>\n",
              "    </tr>\n",
              "    <tr>\n",
              "      <th>4</th>\n",
              "      <td>Subject: do not have money , get software cds ...</td>\n",
              "      <td>1</td>\n",
              "    </tr>\n",
              "    <tr>\n",
              "      <th>...</th>\n",
              "      <td>...</td>\n",
              "      <td>...</td>\n",
              "    </tr>\n",
              "    <tr>\n",
              "      <th>5723</th>\n",
              "      <td>Subject: re : research and development charges...</td>\n",
              "      <td>0</td>\n",
              "    </tr>\n",
              "    <tr>\n",
              "      <th>5724</th>\n",
              "      <td>Subject: re : receipts from visit  jim ,  than...</td>\n",
              "      <td>0</td>\n",
              "    </tr>\n",
              "    <tr>\n",
              "      <th>5725</th>\n",
              "      <td>Subject: re : enron case study update  wow ! a...</td>\n",
              "      <td>0</td>\n",
              "    </tr>\n",
              "    <tr>\n",
              "      <th>5726</th>\n",
              "      <td>Subject: re : interest  david ,  please , call...</td>\n",
              "      <td>0</td>\n",
              "    </tr>\n",
              "    <tr>\n",
              "      <th>5727</th>\n",
              "      <td>Subject: news : aurora 5 . 2 update  aurora ve...</td>\n",
              "      <td>0</td>\n",
              "    </tr>\n",
              "  </tbody>\n",
              "</table>\n",
              "<p>5728 rows × 2 columns</p>\n",
              "</div>"
            ],
            "text/plain": [
              "                                                   text  spam\n",
              "0     Subject: naturally irresistible your corporate...     1\n",
              "1     Subject: the stock trading gunslinger  fanny i...     1\n",
              "2     Subject: unbelievable new homes made easy  im ...     1\n",
              "3     Subject: 4 color printing special  request add...     1\n",
              "4     Subject: do not have money , get software cds ...     1\n",
              "...                                                 ...   ...\n",
              "5723  Subject: re : research and development charges...     0\n",
              "5724  Subject: re : receipts from visit  jim ,  than...     0\n",
              "5725  Subject: re : enron case study update  wow ! a...     0\n",
              "5726  Subject: re : interest  david ,  please , call...     0\n",
              "5727  Subject: news : aurora 5 . 2 update  aurora ve...     0\n",
              "\n",
              "[5728 rows x 2 columns]"
            ]
          },
          "execution_count": 2,
          "metadata": {},
          "output_type": "execute_result"
        }
      ],
      "source": [
        "df = pd.read_csv('emails.csv')\n",
        "df"
      ]
    },
    {
      "cell_type": "code",
      "execution_count": null,
      "id": "26a0c04e",
      "metadata": {
        "id": "26a0c04e",
        "outputId": "0c505a3e-464e-4f19-84d5-4eb2b844424d"
      },
      "outputs": [
        {
          "data": {
            "text/plain": [
              "0    4360\n",
              "1    1368\n",
              "Name: spam, dtype: int64"
            ]
          },
          "execution_count": 3,
          "metadata": {},
          "output_type": "execute_result"
        }
      ],
      "source": [
        "df['spam'].value_counts()"
      ]
    },
    {
      "cell_type": "code",
      "execution_count": null,
      "id": "3fa3f7bc",
      "metadata": {
        "id": "3fa3f7bc"
      },
      "outputs": [],
      "source": [
        "df.drop_duplicates(inplace= True)"
      ]
    },
    {
      "cell_type": "code",
      "execution_count": null,
      "id": "f17528d8",
      "metadata": {
        "id": "f17528d8",
        "outputId": "a6d613d5-0187-4e40-bcb0-93964560f3ac"
      },
      "outputs": [
        {
          "data": {
            "text/html": [
              "<div>\n",
              "<style scoped>\n",
              "    .dataframe tbody tr th:only-of-type {\n",
              "        vertical-align: middle;\n",
              "    }\n",
              "\n",
              "    .dataframe tbody tr th {\n",
              "        vertical-align: top;\n",
              "    }\n",
              "\n",
              "    .dataframe thead th {\n",
              "        text-align: right;\n",
              "    }\n",
              "</style>\n",
              "<table border=\"1\" class=\"dataframe\">\n",
              "  <thead>\n",
              "    <tr style=\"text-align: right;\">\n",
              "      <th></th>\n",
              "      <th>text</th>\n",
              "      <th>spam</th>\n",
              "    </tr>\n",
              "  </thead>\n",
              "  <tbody>\n",
              "    <tr>\n",
              "      <th>0</th>\n",
              "      <td>Subject: naturally irresistible your corporate...</td>\n",
              "      <td>1</td>\n",
              "    </tr>\n",
              "    <tr>\n",
              "      <th>1</th>\n",
              "      <td>Subject: the stock trading gunslinger  fanny i...</td>\n",
              "      <td>1</td>\n",
              "    </tr>\n",
              "    <tr>\n",
              "      <th>2</th>\n",
              "      <td>Subject: unbelievable new homes made easy  im ...</td>\n",
              "      <td>1</td>\n",
              "    </tr>\n",
              "    <tr>\n",
              "      <th>3</th>\n",
              "      <td>Subject: 4 color printing special  request add...</td>\n",
              "      <td>1</td>\n",
              "    </tr>\n",
              "    <tr>\n",
              "      <th>4</th>\n",
              "      <td>Subject: do not have money , get software cds ...</td>\n",
              "      <td>1</td>\n",
              "    </tr>\n",
              "    <tr>\n",
              "      <th>...</th>\n",
              "      <td>...</td>\n",
              "      <td>...</td>\n",
              "    </tr>\n",
              "    <tr>\n",
              "      <th>5723</th>\n",
              "      <td>Subject: re : research and development charges...</td>\n",
              "      <td>0</td>\n",
              "    </tr>\n",
              "    <tr>\n",
              "      <th>5724</th>\n",
              "      <td>Subject: re : receipts from visit  jim ,  than...</td>\n",
              "      <td>0</td>\n",
              "    </tr>\n",
              "    <tr>\n",
              "      <th>5725</th>\n",
              "      <td>Subject: re : enron case study update  wow ! a...</td>\n",
              "      <td>0</td>\n",
              "    </tr>\n",
              "    <tr>\n",
              "      <th>5726</th>\n",
              "      <td>Subject: re : interest  david ,  please , call...</td>\n",
              "      <td>0</td>\n",
              "    </tr>\n",
              "    <tr>\n",
              "      <th>5727</th>\n",
              "      <td>Subject: news : aurora 5 . 2 update  aurora ve...</td>\n",
              "      <td>0</td>\n",
              "    </tr>\n",
              "  </tbody>\n",
              "</table>\n",
              "<p>5695 rows × 2 columns</p>\n",
              "</div>"
            ],
            "text/plain": [
              "                                                   text  spam\n",
              "0     Subject: naturally irresistible your corporate...     1\n",
              "1     Subject: the stock trading gunslinger  fanny i...     1\n",
              "2     Subject: unbelievable new homes made easy  im ...     1\n",
              "3     Subject: 4 color printing special  request add...     1\n",
              "4     Subject: do not have money , get software cds ...     1\n",
              "...                                                 ...   ...\n",
              "5723  Subject: re : research and development charges...     0\n",
              "5724  Subject: re : receipts from visit  jim ,  than...     0\n",
              "5725  Subject: re : enron case study update  wow ! a...     0\n",
              "5726  Subject: re : interest  david ,  please , call...     0\n",
              "5727  Subject: news : aurora 5 . 2 update  aurora ve...     0\n",
              "\n",
              "[5695 rows x 2 columns]"
            ]
          },
          "execution_count": 5,
          "metadata": {},
          "output_type": "execute_result"
        }
      ],
      "source": [
        "df"
      ]
    },
    {
      "cell_type": "code",
      "execution_count": null,
      "id": "65511817",
      "metadata": {
        "id": "65511817",
        "outputId": "a5d3eb63-9bd6-40ff-f2a2-3af38b270f1b"
      },
      "outputs": [
        {
          "data": {
            "text/plain": [
              "0    4327\n",
              "1    1368\n",
              "Name: spam, dtype: int64"
            ]
          },
          "execution_count": 6,
          "metadata": {},
          "output_type": "execute_result"
        }
      ],
      "source": [
        "df['spam'].value_counts()"
      ]
    },
    {
      "cell_type": "code",
      "execution_count": null,
      "id": "645668fe",
      "metadata": {
        "id": "645668fe",
        "outputId": "5ed9ca51-d9cc-47f3-b05a-55576fd75d7a"
      },
      "outputs": [
        {
          "data": {
            "text/plain": [
              "text    0\n",
              "spam    0\n",
              "dtype: int64"
            ]
          },
          "execution_count": 7,
          "metadata": {},
          "output_type": "execute_result"
        }
      ],
      "source": [
        "df.isnull().sum()"
      ]
    },
    {
      "cell_type": "markdown",
      "id": "4cece856",
      "metadata": {
        "id": "4cece856"
      },
      "source": [
        "# separet x y"
      ]
    },
    {
      "cell_type": "code",
      "execution_count": null,
      "id": "2d158756",
      "metadata": {
        "id": "2d158756"
      },
      "outputs": [],
      "source": [
        "x = df.text.values\n",
        "y = df.spam.values"
      ]
    },
    {
      "cell_type": "markdown",
      "id": "5410ce11",
      "metadata": {
        "id": "5410ce11"
      },
      "source": [
        "# split dataset"
      ]
    },
    {
      "cell_type": "code",
      "execution_count": null,
      "id": "5203c260",
      "metadata": {
        "id": "5203c260"
      },
      "outputs": [],
      "source": [
        "from sklearn.model_selection import train_test_split"
      ]
    },
    {
      "cell_type": "code",
      "execution_count": null,
      "id": "4fb298f5",
      "metadata": {
        "id": "4fb298f5"
      },
      "outputs": [],
      "source": [
        "xtrain, xtest, ytrain, ytest = train_test_split(x, y, test_size=0.2, random_state=1)"
      ]
    },
    {
      "cell_type": "markdown",
      "id": "4b88ef5e",
      "metadata": {
        "id": "4b88ef5e"
      },
      "source": [
        "# Data prepocessing"
      ]
    },
    {
      "cell_type": "code",
      "execution_count": null,
      "id": "35c18040",
      "metadata": {
        "id": "35c18040"
      },
      "outputs": [],
      "source": [
        "from sklearn.feature_extraction.text import CountVectorizer"
      ]
    },
    {
      "cell_type": "code",
      "execution_count": null,
      "id": "e8053a4a",
      "metadata": {
        "id": "e8053a4a"
      },
      "outputs": [],
      "source": [
        "cv = CountVectorizer()\n",
        "x_train = cv.fit_transform(xtrain)"
      ]
    },
    {
      "cell_type": "code",
      "execution_count": null,
      "id": "12100479",
      "metadata": {
        "id": "12100479",
        "outputId": "8fee3af9-e792-4a54-eb6e-80e4e48d8f42"
      },
      "outputs": [
        {
          "data": {
            "text/plain": [
              "array([[0, 0, 0, ..., 0, 0, 0],\n",
              "       [0, 0, 0, ..., 0, 0, 0],\n",
              "       [0, 0, 0, ..., 0, 0, 0],\n",
              "       ...,\n",
              "       [0, 0, 0, ..., 0, 0, 0],\n",
              "       [0, 0, 0, ..., 0, 0, 0],\n",
              "       [0, 0, 0, ..., 0, 0, 0]], dtype=int64)"
            ]
          },
          "execution_count": 13,
          "metadata": {},
          "output_type": "execute_result"
        }
      ],
      "source": [
        "x_train.toarray()"
      ]
    },
    {
      "cell_type": "markdown",
      "id": "c99c7e42",
      "metadata": {
        "id": "c99c7e42"
      },
      "source": [
        "# ML algorithm"
      ]
    },
    {
      "cell_type": "code",
      "execution_count": null,
      "id": "93e2300b",
      "metadata": {
        "id": "93e2300b"
      },
      "outputs": [],
      "source": [
        "from sklearn.naive_bayes import MultinomialNB"
      ]
    },
    {
      "cell_type": "code",
      "execution_count": null,
      "id": "1653cfda",
      "metadata": {
        "id": "1653cfda",
        "outputId": "b17069e3-046f-4c38-e7c5-0a389ed2ee59"
      },
      "outputs": [
        {
          "data": {
            "text/plain": [
              "MultinomialNB()"
            ]
          },
          "execution_count": 15,
          "metadata": {},
          "output_type": "execute_result"
        }
      ],
      "source": [
        "model = MultinomialNB()\n",
        "model.fit(x_train,ytrain)"
      ]
    },
    {
      "cell_type": "code",
      "execution_count": null,
      "id": "86758439",
      "metadata": {
        "id": "86758439"
      },
      "outputs": [],
      "source": [
        "x_test = cv.transform(xtest)"
      ]
    },
    {
      "cell_type": "code",
      "execution_count": null,
      "id": "af918ed5",
      "metadata": {
        "id": "af918ed5",
        "outputId": "951fc333-8a57-40ea-ad13-a69932347dfe"
      },
      "outputs": [
        {
          "data": {
            "text/plain": [
              "array([[0, 0, 0, ..., 0, 0, 0],\n",
              "       [0, 0, 0, ..., 0, 0, 0],\n",
              "       [1, 0, 0, ..., 0, 0, 0],\n",
              "       ...,\n",
              "       [0, 1, 0, ..., 0, 0, 0],\n",
              "       [0, 0, 0, ..., 0, 0, 0],\n",
              "       [2, 0, 0, ..., 0, 0, 0]], dtype=int64)"
            ]
          },
          "execution_count": 17,
          "metadata": {},
          "output_type": "execute_result"
        }
      ],
      "source": [
        "x_test.toarray()"
      ]
    },
    {
      "cell_type": "code",
      "execution_count": null,
      "id": "3dafe05f",
      "metadata": {
        "id": "3dafe05f",
        "outputId": "b0dab5d9-a161-4f50-dbb8-4f46c0735518"
      },
      "outputs": [
        {
          "data": {
            "text/plain": [
              "0.9938542581211589"
            ]
          },
          "execution_count": 18,
          "metadata": {},
          "output_type": "execute_result"
        }
      ],
      "source": [
        "model.score(x_test,ytest)"
      ]
    },
    {
      "cell_type": "code",
      "execution_count": null,
      "id": "b3339422",
      "metadata": {
        "id": "b3339422"
      },
      "outputs": [],
      "source": [
        "email = ['hey i am loking for machine learning tutorial in bengla','hey you win an iphone x giveaaway for free please do the serve']"
      ]
    },
    {
      "cell_type": "code",
      "execution_count": null,
      "id": "e2d3021c",
      "metadata": {
        "id": "e2d3021c"
      },
      "outputs": [],
      "source": [
        "cv_email= cv.transform(email)"
      ]
    },
    {
      "cell_type": "code",
      "execution_count": null,
      "id": "e902a431",
      "metadata": {
        "id": "e902a431",
        "outputId": "24a2d646-6305-4396-e9b5-0fe316a1b805"
      },
      "outputs": [
        {
          "data": {
            "text/plain": [
              "array([0, 1], dtype=int64)"
            ]
          },
          "execution_count": 21,
          "metadata": {},
          "output_type": "execute_result"
        }
      ],
      "source": [
        "model.predict(cv_email)"
      ]
    },
    {
      "cell_type": "markdown",
      "id": "cdafdd4f",
      "metadata": {
        "id": "cdafdd4f"
      },
      "source": [
        "# Performance"
      ]
    },
    {
      "cell_type": "code",
      "execution_count": null,
      "id": "e8d850c5",
      "metadata": {
        "id": "e8d850c5"
      },
      "outputs": [],
      "source": [
        "pre = model.predict(x_test)"
      ]
    },
    {
      "cell_type": "code",
      "execution_count": null,
      "id": "ce6869e0",
      "metadata": {
        "id": "ce6869e0",
        "outputId": "d6f7c864-5ba0-4f4c-e86e-c1f2338de0b7"
      },
      "outputs": [
        {
          "data": {
            "text/plain": [
              "array([0, 0, 0, ..., 1, 1, 0], dtype=int64)"
            ]
          },
          "execution_count": 24,
          "metadata": {},
          "output_type": "execute_result"
        }
      ],
      "source": [
        "pre"
      ]
    },
    {
      "cell_type": "code",
      "execution_count": null,
      "id": "d708dd77",
      "metadata": {
        "id": "d708dd77"
      },
      "outputs": [],
      "source": [
        "from sklearn.metrics import accuracy_score"
      ]
    },
    {
      "cell_type": "code",
      "execution_count": null,
      "id": "f7eb35b6",
      "metadata": {
        "id": "f7eb35b6",
        "outputId": "6da4e2c5-31c3-4ac4-e505-7e5020103d73"
      },
      "outputs": [
        {
          "data": {
            "text/plain": [
              "0.9938542581211589"
            ]
          },
          "execution_count": 26,
          "metadata": {},
          "output_type": "execute_result"
        }
      ],
      "source": [
        "accuracy_score(ytest,pre)"
      ]
    },
    {
      "cell_type": "code",
      "execution_count": null,
      "id": "3531d720",
      "metadata": {
        "id": "3531d720"
      },
      "outputs": [],
      "source": [
        "from sklearn.metrics import confusion_matrix"
      ]
    },
    {
      "cell_type": "code",
      "execution_count": null,
      "id": "f32aab9d",
      "metadata": {
        "id": "f32aab9d",
        "outputId": "852b3d2f-1275-4d2b-b81e-9ad4bff85398"
      },
      "outputs": [
        {
          "data": {
            "text/plain": [
              "array([[863,   3],\n",
              "       [  4, 269]], dtype=int64)"
            ]
          },
          "execution_count": 51,
          "metadata": {},
          "output_type": "execute_result"
        }
      ],
      "source": [
        "cf= confusion_matrix(ytest,pre)\n",
        "cf"
      ]
    },
    {
      "cell_type": "code",
      "execution_count": null,
      "id": "e7b0763a",
      "metadata": {
        "id": "e7b0763a",
        "outputId": "032a5494-0670-4d92-e060-91e2532b7def"
      },
      "outputs": [
        {
          "data": {
            "text/plain": [
              "<AxesSubplot:>"
            ]
          },
          "execution_count": 58,
          "metadata": {},
          "output_type": "execute_result"
        },
        {
          "data": {
            "image/png": "[encoded data removed]",
            "text/plain": [
              "<Figure size 640x480 with 2 Axes>"
            ]
          },
          "metadata": {},
          "output_type": "display_data"
        }
      ],
      "source": [
        "sns.heatmap(cf,annot=True)\n",
        "#print(tn, fp, fn, tp = cf().ravel())\n"
      ]
    },
    {
      "cell_type": "code",
      "execution_count": null,
      "id": "7854fbbc",
      "metadata": {
        "id": "7854fbbc"
      },
      "outputs": [],
      "source": [
        "from sklearn.metrics import classification_report"
      ]
    },
    {
      "cell_type": "code",
      "execution_count": null,
      "id": "b2487ae4",
      "metadata": {
        "id": "b2487ae4",
        "outputId": "060263a2-c7b6-4ac0-a5b9-2820ba614835"
      },
      "outputs": [
        {
          "name": "stdout",
          "output_type": "stream",
          "text": [
            "              precision    recall  f1-score   support\n",
            "\n",
            "           0       1.00      1.00      1.00       866\n",
            "           1       0.99      0.99      0.99       273\n",
            "\n",
            "    accuracy                           0.99      1139\n",
            "   macro avg       0.99      0.99      0.99      1139\n",
            "weighted avg       0.99      0.99      0.99      1139\n",
            "\n"
          ]
        }
      ],
      "source": [
        "print(classification_report(ytest,pre))"
      ]
    },
    {
      "cell_type": "code",
      "execution_count": null,
      "id": "713fbebf",
      "metadata": {
        "id": "713fbebf",
        "outputId": "512d4fd1-dad3-449e-f31c-8a71d1d919e2"
      },
      "outputs": [
        {
          "data": {
            "image/png": "[encoded data removed]",
            "text/plain": [
              "<Figure size 640x480 with 1 Axes>"
            ]
          },
          "metadata": {},
          "output_type": "display_data"
        }
      ],
      "source": [
        "plt.xlabel('Predictions', fontsize=18)\n",
        "plt.ylabel('Actuals', fontsize=18)\n",
        "plt.title('Confusion Matrix', fontsize=18)\n",
        "plt.show()"
      ]
    },
    {
      "cell_type": "code",
      "execution_count": null,
      "id": "361c99eb",
      "metadata": {
        "id": "361c99eb"
      },
      "outputs": [],
      "source": []
    }
  ],
  "metadata": {
    "kernelspec": {
      "display_name": "Python 3 (ipykernel)",
      "language": "python",
      "name": "python3"
    },
    "language_info": {
      "codemirror_mode": {
        "name": "ipython",
        "version": 3
      },
      "file_extension": ".py",
      "mimetype": "text/x-python",
      "name": "python",
      "nbconvert_exporter": "python",
      "pygments_lexer": "ipython3",
      "version": "3.9.13"
    },
    "colab": {
      "provenance": []
    }
  },
  "nbformat": 4,
  "nbformat_minor": 5
}